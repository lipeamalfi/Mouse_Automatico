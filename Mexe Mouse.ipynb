{
 "cells": [
  {
   "cell_type": "code",
   "execution_count": null,
   "id": "8db1a81f",
   "metadata": {},
   "outputs": [],
   "source": [
    "import pyautogui as py\n",
    "import time"
   ]
  },
  {
   "cell_type": "code",
   "execution_count": null,
   "id": "bd5db9dc",
   "metadata": {},
   "outputs": [],
   "source": [
    "print(py.size())"
   ]
  },
  {
   "cell_type": "code",
   "execution_count": null,
   "id": "c66e3d04",
   "metadata": {},
   "outputs": [],
   "source": [
    "def ausente():\n",
    "    py.moveTo(50,50, duration = 1)\n",
    "    py.moveRel(1500,900, duration=10)\n",
    "    time.sleep (5)\n",
    "\n",
    "a=5\n",
    "while(a!=0):\n",
    "    ausente()"
   ]
  }
 ],
 "metadata": {
  "kernelspec": {
   "display_name": "Python 3 (ipykernel)",
   "language": "python",
   "name": "python3"
  },
  "language_info": {
   "codemirror_mode": {
    "name": "ipython",
    "version": 3
   },
   "file_extension": ".py",
   "mimetype": "text/x-python",
   "name": "python",
   "nbconvert_exporter": "python",
   "pygments_lexer": "ipython3",
   "version": "3.9.12"
  }
 },
 "nbformat": 4,
 "nbformat_minor": 5
}
